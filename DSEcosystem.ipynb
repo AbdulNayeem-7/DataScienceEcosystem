{
 "cells": [
  {
   "cell_type": "markdown",
   "id": "ecd00318-e8e7-4567-8d73-f959e82f20ee",
   "metadata": {},
   "source": [
    "# Data Science Notebook\n"
   ]
  },
  {
   "cell_type": "markdown",
   "id": "5a2cc800-548b-4d02-a4fb-31571f7549fb",
   "metadata": {},
   "source": [
    "## Introduction\n",
    "This notebook covers basic concepts and exercises related to Data Science, including programming languages, libraries, tools, and simple arithmetic operations.\n"
   ]
  },
  {
   "cell_type": "markdown",
   "id": "fd368da2-994a-40fa-b16e-0e99aa80aad5",
   "metadata": {},
   "source": [
    "## Data Science Languages\r\n",
    "Some popular languages used in Data Science are:\r\n",
    "- Python\r\n",
    "- R\r\n",
    "- SQL\r\n",
    "- Java\r\n",
    "- Scala\r\n",
    "- Julia\r\n"
   ]
  },
  {
   "cell_type": "markdown",
   "id": "986ed70e-7a21-454c-ba34-d9692cd322a5",
   "metadata": {},
   "source": [
    "## Data Science Libraries\n",
    "Commonly used libraries in Data Science include:\n",
    "- Pandas\n",
    "- NumPy\n",
    "- Matplotlib\n",
    "- Scikit-learn\n",
    "- TensorFlow\n",
    "- Keras\n",
    "- PyTorch\n"
   ]
  },
  {
   "cell_type": "markdown",
   "id": "d2d8ef56-a9fa-4fa4-b473-cd34b6c00ff3",
   "metadata": {},
   "source": [
    "## Data Science Tools\n",
    "| Tool             | Description                                       |\n",
    "|------------------|---------------------------------------------------|\n",
    "| Jupyter Notebook | Interactive computing environment                 |\n",
    "| RStudio          | Integrated development environment for R          |\n",
    "| Apache Hadoop    | Framework for distributed storage and processing  |\n",
    "| Apache Spark     | Unified analytics engine for big data processing  |\n",
    "| Tableau          | Data visualization software                       |\n"
   ]
  },
  {
   "cell_type": "markdown",
   "id": "72c30103-4475-4e72-bd7c-3a5fb42b7577",
   "metadata": {},
   "source": [
    "## Arithmetic Expression Examples\n",
    "Below are examples of basic arithmetic operations such as addition, subtraction, multiplication, and division.\n"
   ]
  },
  {
   "cell_type": "code",
   "execution_count": 45,
   "id": "532f0412-0f3a-418d-8891-1b2fccb1fd63",
   "metadata": {},
   "outputs": [
    {
     "data": {
      "text/plain": [
       "(50, 15)"
      ]
     },
     "execution_count": 45,
     "metadata": {},
     "output_type": "execute_result"
    }
   ],
   "source": [
    "# Multiplying and adding numbers\n",
    "a = 5\n",
    "b = 10\n",
    "product = a * b\n",
    "sum_result = a + b\n",
    "product, sum_result\n"
   ]
  },
  {
   "cell_type": "code",
   "execution_count": 47,
   "id": "51a12853-e93c-4bbe-84f6-ae5a2f420010",
   "metadata": {},
   "outputs": [
    {
     "data": {
      "text/plain": [
       "2.0"
      ]
     },
     "execution_count": 47,
     "metadata": {},
     "output_type": "execute_result"
    }
   ],
   "source": [
    "# Converting minutes to hours\n",
    "minutes = 120\n",
    "hours = minutes / 60\n",
    "hours\n"
   ]
  },
  {
   "cell_type": "markdown",
   "id": "b7d468f3-924f-4d8b-a5e7-2c7e7baa8c3c",
   "metadata": {},
   "source": [
    "## Objectives\n",
    "The objectives of this notebook are:\n",
    "- To understand the fundamental languages and libraries used in Data Science.\n",
    "- To learn about various Data Science tools.\n",
    "- To practice basic arithmetic operations using Python.\n",
    "- To convert time units in Python.\n"
   ]
  },
  {
   "cell_type": "markdown",
   "id": "d47d6e19-d9ab-4df0-adea-c7486cd76185",
   "metadata": {},
   "source": [
    "## Author\n",
    "Name: SHAIK ABDUL NAYEEM\n"
   ]
  }
 ],
 "metadata": {
  "kernelspec": {
   "display_name": "Python 3 (ipykernel)",
   "language": "python",
   "name": "python3"
  },
  "language_info": {
   "codemirror_mode": {
    "name": "ipython",
    "version": 3
   },
   "file_extension": ".py",
   "mimetype": "text/x-python",
   "name": "python",
   "nbconvert_exporter": "python",
   "pygments_lexer": "ipython3",
   "version": "3.11.7"
  }
 },
 "nbformat": 4,
 "nbformat_minor": 5
}
